{
  "nbformat": 4,
  "nbformat_minor": 0,
  "metadata": {
    "colab": {
      "provenance": []
    },
    "kernelspec": {
      "name": "python3",
      "display_name": "Python 3"
    },
    "language_info": {
      "name": "python"
    }
  },
  "cells": [
    {
      "cell_type": "code",
      "execution_count": null,
      "metadata": {
        "colab": {
          "base_uri": "https://localhost:8080/"
        },
        "id": "-KsC7YcRaxrn",
        "outputId": "a822e2f5-b7d8-4eab-9428-a35e3735c574"
      },
      "outputs": [
        {
          "output_type": "stream",
          "name": "stdout",
          "text": [
            "Requirement already satisfied: pandas in /usr/local/lib/python3.11/dist-packages (2.2.2)\n",
            "Requirement already satisfied: numpy>=1.23.2 in /usr/local/lib/python3.11/dist-packages (from pandas) (2.0.2)\n",
            "Requirement already satisfied: python-dateutil>=2.8.2 in /usr/local/lib/python3.11/dist-packages (from pandas) (2.8.2)\n",
            "Requirement already satisfied: pytz>=2020.1 in /usr/local/lib/python3.11/dist-packages (from pandas) (2025.2)\n",
            "Requirement already satisfied: tzdata>=2022.7 in /usr/local/lib/python3.11/dist-packages (from pandas) (2025.2)\n",
            "Requirement already satisfied: six>=1.5 in /usr/local/lib/python3.11/dist-packages (from python-dateutil>=2.8.2->pandas) (1.17.0)\n"
          ]
        }
      ],
      "source": [
        "%pip install pandas\n",
        "from pyspark.sql import SparkSession"
      ]
    },
    {
      "cell_type": "code",
      "source": [
        "spark = SparkSession.builder.appName(\"MyApp\").master(\"local[*]\").config(\"spark.network.timeout\", \"600s\") \\\n",
        "    .config(\"spark.executor.heartbeatInterval\", \"60s\") \\\n",
        "    .config(\"spark.executor.memory\", \"6g\") \\\n",
        "    .config(\"spark.driver.memory\", \"4g\") \\\n",
        "    .getOrCreate()"
      ],
      "metadata": {
        "id": "ms2b-fidbIk2"
      },
      "execution_count": null,
      "outputs": []
    },
    {
      "cell_type": "code",
      "source": [
        "\"\"\"# how to stop session\n",
        "\n",
        "spark.stop()\"\"\""
      ],
      "metadata": {
        "id": "tqB7ktghPLO1",
        "colab": {
          "base_uri": "https://localhost:8080/",
          "height": 36
        },
        "outputId": "e74bcc97-3c8c-44d4-e51a-51ab4acba78a"
      },
      "execution_count": null,
      "outputs": [
        {
          "output_type": "execute_result",
          "data": {
            "text/plain": [
              "'# how to stop session\\n\\nspark.stop()'"
            ],
            "application/vnd.google.colaboratory.intrinsic+json": {
              "type": "string"
            }
          },
          "metadata": {},
          "execution_count": 3
        }
      ]
    },
    {
      "cell_type": "code",
      "source": [
        "file_paths = [\"Category.csv\", \"Customers.csv\", \"OrderDetails.csv\", \\\n",
        "              \"Orders.csv\", \"Payments.csv\", \"Products.csv\", \"Shippers.csv\", \"Suppliers.csv\"]\n",
        "\n",
        "\n",
        "dataframes = {\n",
        "    file.split(\".\")[0]: spark.read.csv(file, header=True, inferSchema=True)\n",
        "    for file in file_paths\n",
        "}\n",
        "\n",
        "\n",
        "dataframes[\"Category\"].show()"
      ],
      "metadata": {
        "colab": {
          "base_uri": "https://localhost:8080/"
        },
        "id": "3CSo302VbJB1",
        "outputId": "505c8812-4e09-4e20-a155-541db90d524a"
      },
      "execution_count": null,
      "outputs": [
        {
          "output_type": "stream",
          "name": "stdout",
          "text": [
            "+----------+--------------------+------+\n",
            "|CategoryID|        CategoryName|Active|\n",
            "+----------+--------------------+------+\n",
            "|      5001|Cleaning & Household|   Yes|\n",
            "|      5002|Kitchen, Garden &...|   Yes|\n",
            "|      5003|Foodgrains, Oil &...|   Yes|\n",
            "|      5004|Gourmet & World Food|   Yes|\n",
            "|      5005|           Baby Care|    No|\n",
            "|      5006|Snacks & Branded ...|   Yes|\n",
            "|      5007|Bakery, Cakes & D...|   Yes|\n",
            "|      5008|    Beauty & Hygiene|   Yes|\n",
            "|      5009|           Beverages|   Yes|\n",
            "|      5010|   Eggs, Meat & Fish|    No|\n",
            "|      5011| Fruits & Vegetables|   Yes|\n",
            "+----------+--------------------+------+\n",
            "\n"
          ]
        }
      ]
    },
    {
      "cell_type": "code",
      "source": [
        "dataframes[\"Orders\"].printSchema()\n",
        "dataframes[\"Customers\"].printSchema()"
      ],
      "metadata": {
        "colab": {
          "base_uri": "https://localhost:8080/"
        },
        "id": "eCx6AlrzeaX5",
        "outputId": "184ee67f-79e5-4094-8026-d804f2fccf89"
      },
      "execution_count": null,
      "outputs": [
        {
          "output_type": "stream",
          "name": "stdout",
          "text": [
            "root\n",
            " |-- OrderID: integer (nullable = true)\n",
            " |-- CustomerID: integer (nullable = true)\n",
            " |-- PaymentID: integer (nullable = true)\n",
            " |-- OrderDate: string (nullable = true)\n",
            " |-- ShipperID: integer (nullable = true)\n",
            " |-- ShipDate: string (nullable = true)\n",
            " |-- DeliveryDate: string (nullable = true)\n",
            " |-- Total_order_amount: double (nullable = true)\n",
            "\n",
            "root\n",
            " |-- CustomerID: integer (nullable = true)\n",
            " |-- FirstName: string (nullable = true)\n",
            " |-- LastName: string (nullable = true)\n",
            " |-- City: string (nullable = true)\n",
            " |-- State: string (nullable = true)\n",
            " |-- Country: string (nullable = true)\n",
            " |-- PostalCode: integer (nullable = true)\n",
            " |-- Phone: long (nullable = true)\n",
            " |-- Email: string (nullable = true)\n",
            " |-- DateEntered: date (nullable = true)\n",
            "\n"
          ]
        }
      ]
    },
    {
      "cell_type": "code",
      "source": [
        "# Find top 5 cities with highest revenue along with top products sold in each.\n",
        "from pyspark.sql.functions import sum,round\n",
        "dataframes[\"Orders\"].join(dataframes[\"Customers\"], \\\n",
        "                          dataframes[\"Orders\"][\"CustomerID\"] == dataframes[\"Customers\"][\"CustomerID\"], \\\n",
        "                          \"inner\").groupby(\"City\").\\\n",
        "                          agg(round(sum(\"Total_order_amount\"),2).alias(\"total_sales\")).\\\n",
        "                          orderBy(\"total_sales\", ascending=False).show(5)\n"
      ],
      "metadata": {
        "colab": {
          "base_uri": "https://localhost:8080/"
        },
        "id": "W-0WyKvqbabD",
        "outputId": "dd19d3e3-8be5-4533-ae01-f6da53e49e5e"
      },
      "execution_count": null,
      "outputs": [
        {
          "output_type": "stream",
          "name": "stdout",
          "text": [
            "+---------+-----------+\n",
            "|     City|total_sales|\n",
            "+---------+-----------+\n",
            "|Amsterdam| 3825993.32|\n",
            "|   Zurich| 3753449.87|\n",
            "|  Belfast| 3732753.48|\n",
            "| Brussels| 3485226.21|\n",
            "|   Vienna| 2511282.69|\n",
            "+---------+-----------+\n",
            "only showing top 5 rows\n",
            "\n"
          ]
        }
      ]
    },
    {
      "cell_type": "code",
      "source": [
        "from pyspark.sql.functions import sum, format_number\n",
        "# Which combination of category and payment type generates the most revenue and apply round if required.\n",
        "\n",
        "df=dataframes[\"Orders\"].join(dataframes[\"Payments\"], \\\n",
        "                          dataframes[\"Orders\"][\"PaymentID\"] == dataframes[\"Payments\"][\"PaymentID\"], \\\n",
        "                          \"inner\").join(dataframes[\"OrderDetails\"], \\\n",
        "                                         dataframes[\"Orders\"][\"OrderID\"] == dataframes[\"OrderDetails\"][\"OrderID\"], \\\n",
        "                                         \"inner\").join(dataframes[\"Products\"], \\\n",
        "                                                        dataframes[\"OrderDetails\"][\"ProductID\"] == dataframes[\"Products\"][\"ProductID\"], \\\n",
        "                                                        \"inner\").join(dataframes[\"Category\"], \\\n",
        "                                                                       dataframes[\"Products\"][\"Category_ID\"] == dataframes[\"Category\"][\"CategoryID\"], \\\n",
        "                                                                       \"inner\").groupby(\"PaymentType\", \"CategoryName\").\\\n",
        "                                        agg(sum(\"Total_order_amount\").alias(\"Total_sales\")).orderBy(\"Total_sales\", ascending=False)\n",
        "\n",
        "\n",
        "df=df.withColumn(\"Total_sales\", format_number(\"Total_sales\", 2)).show()"
      ],
      "metadata": {
        "colab": {
          "base_uri": "https://localhost:8080/"
        },
        "id": "lWkAlRtnchgz",
        "outputId": "5b1fbdbe-ed5f-4712-d1d9-c62c6f206314"
      },
      "execution_count": null,
      "outputs": [
        {
          "output_type": "stream",
          "name": "stdout",
          "text": [
            "+-----------+--------------------+-------------+\n",
            "|PaymentType|        CategoryName|  Total_sales|\n",
            "+-----------+--------------------+-------------+\n",
            "|Credit Card|    Beauty & Hygiene|97,304,550.00|\n",
            "|Credit Card|Gourmet & World Food|55,572,799.65|\n",
            "|Credit Card|Kitchen, Garden &...|48,010,825.65|\n",
            "|     PayPal|    Beauty & Hygiene|37,524,812.43|\n",
            "|Credit Card|Snacks & Branded ...|32,024,975.60|\n",
            "|Credit Card|Cleaning & Household|31,825,670.35|\n",
            "|Credit Card|Foodgrains, Oil &...|30,254,102.70|\n",
            "|     Wallet|    Beauty & Hygiene|25,311,386.00|\n",
            "|Net banking|    Beauty & Hygiene|22,855,738.00|\n",
            "|     PayPal|Gourmet & World Food|22,174,660.24|\n",
            "|     PayPal|Kitchen, Garden &...|18,431,310.30|\n",
            "|     Wallet|Gourmet & World Food|16,275,342.00|\n",
            "|Net banking|Gourmet & World Food|15,071,544.00|\n",
            "|     Wallet|Kitchen, Garden &...|13,564,482.00|\n",
            "|     PayPal|Cleaning & Household|12,788,036.14|\n",
            "|     PayPal|Snacks & Branded ...|12,334,985.28|\n",
            "|Net banking|Kitchen, Garden &...|11,389,617.00|\n",
            "|     PayPal|Foodgrains, Oil &...|10,625,424.43|\n",
            "|Credit Card|Bakery, Cakes & D...|10,182,972.90|\n",
            "|Credit Card|           Beverages| 9,503,874.65|\n",
            "+-----------+--------------------+-------------+\n",
            "only showing top 20 rows\n",
            "\n"
          ]
        }
      ]
    },
    {
      "cell_type": "code",
      "source": [
        "# Compare customer order frequency vs. order value (repeat customers vs. one-timers).\n",
        "\n",
        "from pyspark.sql.functions import count, sum, avg,lit\n",
        "\n",
        "\n",
        "customer_orders = dataframes[\"Orders\"] \\\n",
        "    .groupBy(\"CustomerID\") \\\n",
        "    .agg(\n",
        "        count(\"OrderID\").alias(\"OrderCount\"),\n",
        "        sum(\"Total_order_amount\").alias(\"TotalSpent\"),\n",
        "        avg(\"Total_order_amount\").alias(\"AvgOrderValue\")\n",
        "    )\n",
        "one_time_customers = customer_orders.filter(\"OrderCount = 1\")\n",
        "repeat_customers = customer_orders.filter(\"OrderCount > 1\")\n",
        "\n",
        "summary_one_time = one_time_customers.agg(\n",
        "    count(\"CustomerID\").alias(\"NumCustomers\"),\\\n",
        "    avg(\"OrderCount\").alias(\"AvgOrderCount\"),\\\n",
        "    avg(\"TotalSpent\").alias(\"AvgTotalSpent\"),\\\n",
        "    avg(\"AvgOrderValue\").alias(\"AvgOrderValue\")\\\n",
        ").withColumn(\"CustomerType\", lit(\"One-Time Customer\"))\n",
        "\n",
        "summary_repeat = repeat_customers.agg( \\\n",
        "    count(\"CustomerID\").alias(\"NumCustomers\"),\\\n",
        "    avg(\"OrderCount\").alias(\"AvgOrderCount\"),\\\n",
        "    avg(\"TotalSpent\").alias(\"AvgTotalSpent\"),\\\n",
        "    avg(\"AvgOrderValue\").alias(\"AvgOrderValue\")\\\n",
        ").withColumn(\"CustomerType\", lit(\"Repeat Customer\"))\n",
        "\n",
        "final_summary = summary_one_time.union(summary_repeat)\n",
        "final_summary.select(\"CustomerType\", \"NumCustomers\", \"AvgOrderCount\", \"AvgTotalSpent\", \"AvgOrderValue\").show(truncate=False)\n"
      ],
      "metadata": {
        "colab": {
          "base_uri": "https://localhost:8080/"
        },
        "id": "tBByZ9xafzmS",
        "outputId": "aeff154f-90ae-468a-886f-dbefbea3e1fa"
      },
      "execution_count": null,
      "outputs": [
        {
          "output_type": "stream",
          "name": "stdout",
          "text": [
            "+-----------------+------------+-----------------+------------------+------------------+\n",
            "|CustomerType     |NumCustomers|AvgOrderCount    |AvgTotalSpent     |AvgOrderValue     |\n",
            "+-----------------+------------+-----------------+------------------+------------------+\n",
            "|One-Time Customer|1           |1.0              |36306.0           |36306.0           |\n",
            "|Repeat Customer  |524         |9.538167938931299|175348.93664122143|18287.947302524637|\n",
            "+-----------------+------------+-----------------+------------------+------------------+\n",
            "\n"
          ]
        }
      ]
    },
    {
      "cell_type": "code",
      "source": [
        "# Which product categories are generating the highest profit margins in United States regions?\n",
        "from pyspark.sql.functions import sum, round, col\n",
        "\n",
        "rdd2 = dataframes[\"Orders\"].join(dataframes[\"OrderDetails\"], \\\n",
        "                          dataframes[\"Orders\"][\"OrderID\"] == dataframes[\"OrderDetails\"][\"OrderID\"], \\\n",
        "                          \"inner\").join(dataframes[\"Products\"], \\\n",
        "                                         dataframes[\"OrderDetails\"][\"ProductID\"] == dataframes[\"Products\"][\"ProductID\"],\"inner\").\\\n",
        "                                         join(dataframes[\"Category\"], \\\n",
        "                                              dataframes[\"Products\"][\"Category_ID\"] == dataframes[\"Category\"][\"CategoryID\"], \\\n",
        "                                              \"inner\").join(dataframes[\"Customers\"],dataframes[\"Orders\"][\"CustomerID\"]==dataframes[\"Customers\"][\"CustomerID\"],\\\n",
        "                                                            \"inner\")\n",
        "rdd2= rdd2.withColumn(\"Sale_Price\", col(\"Sale_Price\").cast(\"float\")) \\\n",
        "                         .withColumn(\"Market_Price\", col(\"Market_Price\").cast(\"float\"))\\\n",
        "                         .withColumn(\"Profit_margin\",col(\"Sale_Price\")-col(\"Market_Price\"))\n",
        "\n",
        "\n",
        "\n",
        "rdd2 = rdd2.filter(rdd2[\"Country\"] == \"United States\")\n",
        "\n",
        "profit_by_category = rdd2.groupby(\"CategoryName\").agg(round(sum(\"Profit_margin\"),2).alias(\"total_profit\"))\n",
        "\n",
        "highest_profit_categories = profit_by_category.orderBy(\"total_profit\", ascending=False)\n",
        "\n",
        "highest_profit_categories.show(truncate=False)"
      ],
      "metadata": {
        "id": "btoEkE3vr3uM",
        "colab": {
          "base_uri": "https://localhost:8080/"
        },
        "outputId": "10e8399a-6de2-4ec8-c74f-1444ca62eb78"
      },
      "execution_count": null,
      "outputs": [
        {
          "output_type": "stream",
          "name": "stdout",
          "text": [
            "+------------------------+------------+\n",
            "|CategoryName            |total_profit|\n",
            "+------------------------+------------+\n",
            "|Fruits & Vegetables     |-298.0      |\n",
            "|Eggs, Meat & Fish       |-1317.0     |\n",
            "|Bakery, Cakes & Dairy   |-1921.0     |\n",
            "|Snacks & Branded Foods  |-2971.0     |\n",
            "|Beverages               |-3579.0     |\n",
            "|Baby Care               |-5815.0     |\n",
            "|Foodgrains, Oil & Masala|-6295.0     |\n",
            "|Cleaning & Household    |-10891.0    |\n",
            "|Gourmet & World Food    |-17424.0    |\n",
            "|Kitchen, Garden & Pets  |-71311.0    |\n",
            "|Beauty & Hygiene        |-73982.0    |\n",
            "+------------------------+------------+\n",
            "\n"
          ]
        }
      ]
    },
    {
      "cell_type": "code",
      "source": [
        "# What is the customer retention rate based on repeat orders?\n",
        "# customer retention rate = (Number of Customers with more than one order) / (Total Number of Unique Customers)\n",
        "rdd3 = dataframes[\"Orders\"].groupBy(\"CustomerID\").agg(count(\"OrderID\").alias(\"OrderCount\"))\n",
        "repeat_customers = rdd3.filter(\"OrderCount > 1\")\n",
        "total_customers = rdd3.select(\"CustomerID\").distinct().count()\n",
        "repeat_customers_count = repeat_customers.count()\n",
        "retention_rate = (repeat_customers_count / total_customers) * 100\n",
        "print(\"Customer Retention Rate:\", retention_rate, \"%\")\n"
      ],
      "metadata": {
        "colab": {
          "base_uri": "https://localhost:8080/"
        },
        "id": "WwQl7XnBGJ1c",
        "outputId": "8da81416-06b0-4dbc-865f-74ad4e5f08b6"
      },
      "execution_count": null,
      "outputs": [
        {
          "output_type": "stream",
          "name": "stdout",
          "text": [
            "Customer Retention Rate: 99.80952380952381 %\n"
          ]
        }
      ]
    },
    {
      "cell_type": "code",
      "source": [
        "dataframes[\"Products\"].printSchema()"
      ],
      "metadata": {
        "colab": {
          "base_uri": "https://localhost:8080/"
        },
        "id": "4sYjtJT1N4QY",
        "outputId": "b3f2e3f9-3d56-4d95-81f1-0e0eb17e2f88"
      },
      "execution_count": null,
      "outputs": [
        {
          "output_type": "stream",
          "name": "stdout",
          "text": [
            "root\n",
            " |-- ProductID: string (nullable = true)\n",
            " |-- Product: string (nullable = true)\n",
            " |-- Category_ID: string (nullable = true)\n",
            " |-- Sub_Category: string (nullable = true)\n",
            " |-- Brand: string (nullable = true)\n",
            " |-- Sale_Price: integer (nullable = true)\n",
            " |-- Market_Price: string (nullable = true)\n",
            " |-- Type: string (nullable = true)\n",
            " |-- Rating: integer (nullable = true)\n",
            "\n"
          ]
        }
      ]
    },
    {
      "cell_type": "code",
      "source": [
        "# Which sub-categories perform well in terms of both quantity sold and average rating?\n",
        "rdd4 = dataframes[\"OrderDetails\"].join(dataframes[\"Products\"], \\\n",
        "                          dataframes[\"OrderDetails\"][\"ProductID\"] == dataframes[\"Products\"][\"ProductID\"], \\\n",
        "                          \"inner\")\n",
        "\n",
        "performance = rdd4.groupBy(\"Sub_Category\").agg( \\\n",
        "    sum(\"Quantity\").alias(\"TotalQuantitySold\"), \\\n",
        "    avg(\"Rating\").alias(\"AverageRating\")\n",
        ")\n",
        "performance = performance.orderBy(\"TotalQuantitySold\", ascending=False)\n",
        "performance.show()\n"
      ],
      "metadata": {
        "colab": {
          "base_uri": "https://localhost:8080/"
        },
        "id": "ZUpcDTANANn3",
        "outputId": "3f8e9ca2-60d1-4f8c-9401-62702bb5afba"
      },
      "execution_count": null,
      "outputs": [
        {
          "output_type": "stream",
          "name": "stdout",
          "text": [
            "+--------------------+-----------------+------------------+\n",
            "|        Sub_Category|TotalQuantitySold|     AverageRating|\n",
            "+--------------------+-----------------+------------------+\n",
            "|           Skin Care|            25638| 3.042914979757085|\n",
            "|   Health & Medicine|            12676| 3.001655629139073|\n",
            "|Storage & Accesso...|            10031|3.1317427385892116|\n",
            "|           Hair Care|             9803|2.9058823529411764|\n",
            "|    Masalas & Spices|             9569| 2.903050108932462|\n",
            "|   Fragrances & Deos|             9233| 3.089861751152074|\n",
            "|  Crockery & Cutlery|             9137| 3.026284348864994|\n",
            "|    Bath & Hand Wash|             9097|2.9588100686498855|\n",
            "|Snacks, Dry Fruit...|             8598|2.9841075794621026|\n",
            "| Ready To Cook & Eat|             8342| 2.839240506329114|\n",
            "|  Drinks & Beverages|             8088|3.0140664961636827|\n",
            "|Sauces, Spreads &...|             8053|2.9563492063492065|\n",
            "|Cooking & Baking ...|             7454|3.1127717391304346|\n",
            "|Chocolates & Bisc...|             6643| 3.018633540372671|\n",
            "|     Organic Staples|             6372|2.9764309764309766|\n",
            "|      Men's Grooming|             5973|3.0017452006980805|\n",
            "|All Purpose Cleaners|             5341|3.0153846153846153|\n",
            "|    Snacks & Namkeen|             5311| 3.061099796334012|\n",
            "|          Stationery|             4559| 3.071269487750557|\n",
            "| Kitchen Accessories|             4515| 2.756501182033097|\n",
            "+--------------------+-----------------+------------------+\n",
            "only showing top 20 rows\n",
            "\n"
          ]
        }
      ]
    },
    {
      "cell_type": "code",
      "source": [],
      "metadata": {
        "id": "g6TwiRcTMhxM"
      },
      "execution_count": null,
      "outputs": []
    }
  ]
}